{
 "metadata": {
  "language_info": {
   "codemirror_mode": {
    "name": "ipython",
    "version": 3
   },
   "file_extension": ".py",
   "mimetype": "text/x-python",
   "name": "python",
   "nbconvert_exporter": "python",
   "pygments_lexer": "ipython3",
   "version": "3.8.3-final"
  },
  "orig_nbformat": 2,
  "kernelspec": {
   "name": "python_defaultSpec_1599948946845",
   "display_name": "Python 3.8.3 32-bit"
  }
 },
 "nbformat": 4,
 "nbformat_minor": 2,
 "cells": [
  {
   "cell_type": "code",
   "execution_count": null,
   "metadata": {},
   "outputs": [],
   "source": [
    "value = \"black lives matter\""
   ]
  },
  {
   "source": [
    "## String Indexing\n",
    "Strings can be indexed"
   ],
   "cell_type": "markdown",
   "metadata": {}
  },
  {
   "cell_type": "code",
   "execution_count": null,
   "metadata": {
    "tags": []
   },
   "outputs": [],
   "source": [
    "# print the character at index 0 to the variable first\n",
    "print(value[0])\n",
    "\n",
    "# print the character at the last index to variable last\n",
    "print(value[len(value) - 1])\n",
    "\n",
    "# print the character at the last index using negative indexing\n",
    "print(value[-1])\n",
    "\n"
   ]
  },
  {
   "source": [
    "## String Iteration"
   ],
   "cell_type": "markdown",
   "metadata": {}
  },
  {
   "source": [
    "# Iterate over each character in a string\n",
    "for v in value: \n",
    "    print(v)"
   ],
   "cell_type": "code",
   "metadata": {
    "tags": []
   },
   "execution_count": null,
   "outputs": []
  },
  {
   "cell_type": "code",
   "execution_count": null,
   "metadata": {
    "tags": []
   },
   "outputs": [],
   "source": [
    "# Iterate over a range over numbers which can be used to index the string.\n",
    "for i in range(0, len(value), 2):\n",
    "    print(value[i])"
   ]
  },
  {
   "source": [
    "## String Immutability\n",
    "http://www.net-informations.com/python/iq/immutable.htm#:~:text=Strings%20are%20immutable%20in%20Python%2C%20which%20means%20you,string%20that%20is%20a%20variation%20on%20the%20original."
   ],
   "cell_type": "markdown",
   "metadata": {}
  },
  {
   "cell_type": "code",
   "execution_count": null,
   "metadata": {},
   "outputs": [],
   "source": [
    "\n",
    "# String concatenation produces a new string.\n",
    "print(value + \" matter\")\n",
    "\n",
    "# The original value remains unchanged.\n",
    "print(value)"
   ]
  }
 ]
}